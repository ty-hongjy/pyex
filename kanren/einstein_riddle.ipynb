{
 "cells": [
  {
   "cell_type": "code",
   "execution_count": 9,
   "metadata": {},
   "outputs": [],
   "source": [
    "from kanren import *\n",
    "from kanren.core import lall\n",
    "import time\n",
    "\n",
    "def left(q, p, list):\n",
    "   return membero((q,p), zip(list, list[1:]))\n",
    "def next(q, p, list):\n",
    "   return conde([left(q, p, list)], [left(p, q, list)])\n",
    "houses = var()\n",
    "rules_zebraproblem = lall(\n",
    "   (eq, (var(), var(), var(), var(), var()), houses),     #5个var（）分别代表 人、烟、饮料、动物、屋子颜色\n",
    "\n",
    "   (membero,('Englishman', var(), var(), var(), 'red'), houses),\n",
    "   (membero,('Swede', var(), var(), 'dog', var()), houses),\n",
    "   (membero,('Dane', var(), 'tea', var(), var()), houses),\n",
    "   (left,(var(), var(), var(), var(), 'green'),\n",
    "   (var(), var(), var(), var(), 'white'), houses),\n",
    "   (membero,(var(), var(), 'coffee', var(), 'green'), houses),\n",
    "   (membero,(var(), 'Pall Mall', var(), 'birds', var()), houses),\n",
    "   (membero,(var(), 'Dunhill', var(), var(), 'yellow'), houses),\n",
    "   (eq,(var(), var(), (var(), var(), 'milk', var(), var()), var(), var()), houses),\n",
    "   (eq,(('Norwegian', var(), var(), var(), var()), var(), var(), var(), var()), houses),\n",
    "   (next,(var(), 'Blend', var(), var(), var()),\n",
    "   (var(), var(), var(), 'cats', var()), houses),\n",
    "   (next,(var(), 'Dunhill', var(), var(), var()),\n",
    "   (var(), var(), var(), 'horse', var()), houses),\n",
    "   (membero,(var(), 'Blue Master', 'beer', var(), var()), houses),\n",
    "   (membero,('German', 'Prince', var(), var(), var()), houses),\n",
    "   (next,('Norwegian', var(), var(), var(), var()),\n",
    "   (var(), var(), var(), var(), 'blue'), houses),\n",
    "   (next,(var(), 'Blend', var(), var(), var()),\n",
    "   (var(), var(), 'water', var(), var()), houses),\n",
    "   (membero,(var(), var(), var(), 'zebra', var()), houses)\n",
    ")\n",
    "solutions = run(0, houses, rules_zebraproblem)\n",
    "output_zebra = [house for house in solutions[0] if 'zebra' in house][0][0] \n",
    "output_water = [house for house in solutions[0] if 'water' in house][0][0] \n",
    "output_green = [house for house in solutions[0] if 'green' in house][0][0] "
   ]
  },
  {
   "cell_type": "code",
   "execution_count": 5,
   "metadata": {
    "scrolled": true
   },
   "outputs": [
    {
     "name": "stdout",
     "output_type": "stream",
     "text": [
      "\n",
      "German owns zebra.\n"
     ]
    }
   ],
   "source": [
    "print ('\\n'+ output_zebra + ' owns zebra.') "
   ]
  },
  {
   "cell_type": "code",
   "execution_count": 8,
   "metadata": {
    "scrolled": true
   },
   "outputs": [
    {
     "name": "stdout",
     "output_type": "stream",
     "text": [
      "\n",
      "Norwegian drink water.\n"
     ]
    }
   ],
   "source": [
    "print ('\\n'+ output_water + ' drink water.') "
   ]
  },
  {
   "cell_type": "code",
   "execution_count": 10,
   "metadata": {
    "scrolled": true
   },
   "outputs": [
    {
     "name": "stdout",
     "output_type": "stream",
     "text": [
      "\n",
      "German house color is gree.\n"
     ]
    }
   ],
   "source": [
    "print ('\\n'+ output_green + ' house color is gree.') "
   ]
  },
  {
   "cell_type": "code",
   "execution_count": null,
   "metadata": {},
   "outputs": [],
   "source": []
  }
 ],
 "metadata": {
  "kernelspec": {
   "display_name": "Python 3",
   "language": "python",
   "name": "python3"
  },
  "language_info": {
   "codemirror_mode": {
    "name": "ipython",
    "version": 3
   },
   "file_extension": ".py",
   "mimetype": "text/x-python",
   "name": "python",
   "nbconvert_exporter": "python",
   "pygments_lexer": "ipython3",
   "version": "3.7.9"
  }
 },
 "nbformat": 4,
 "nbformat_minor": 4
}
