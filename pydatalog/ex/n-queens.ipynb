{
 "cells": [
  {
   "cell_type": "code",
   "execution_count": null,
   "metadata": {},
   "outputs": [],
   "source": [
    "from pyDatalog import pyDatalog\n",
    "pyDatalog.create_atoms( 'N, N1, X, Y, X0, X1, X2, X3, X4, X5, X6, X7' )\n",
    "pyDatalog.create_atoms( 'ok, queens, next_queen, pred, pred2' )\n",
    "size = 8\n",
    "ok( X1, N, X2 ) <= ( X1 != X2 ) & ( X1 != X2 + N ) & ( X1 != X2 - N )\n",
    "pred( N, N1 )   <= ( N > 1 ) & ( N1 == N - 1 )\n",
    "queens( 1, X )  <= ( X1._in( range( size ) ) ) & ( X1 == X[0] )\n",
    "queens( N, X )  <= pred( N, N1 ) & queens( N1, X[:-1] ) & next_queen( N, X )\n",
    "pred2( N, N1 )     <= ( N > 2 ) & ( N1 == N - 1 )\n",
    "next_queen( 2, X ) <= ( X1._in( range( 8 ) ) ) & ok( X[0], 1, X1 ) & ( X1 == X[1] )\n",
    "next_queen( N, X ) <= pred2( N, N1 ) & next_queen( N1, X[1:] ) & ok( X[0], N1, X[-1] )\n",
    "print( queens( size, ( X0, X1, X2, X3, X4, X5, X6, X7 ) ) )\n"
   ]
  },
  {
   "cell_type": "code",
   "execution_count": null,
   "metadata": {},
   "outputs": [],
   "source": []
  }
 ],
 "metadata": {
  "kernelspec": {
   "display_name": "Python 3 (ipykernel)",
   "language": "python",
   "name": "python3"
  },
  "language_info": {
   "codemirror_mode": {
    "name": "ipython",
    "version": 3
   },
   "file_extension": ".py",
   "mimetype": "text/x-python",
   "name": "python",
   "nbconvert_exporter": "python",
   "pygments_lexer": "ipython3",
   "version": "3.7.9"
  }
 },
 "nbformat": 4,
 "nbformat_minor": 4
}
